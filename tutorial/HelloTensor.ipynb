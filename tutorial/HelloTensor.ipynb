{
 "cells": [
  {
   "cell_type": "code",
   "execution_count": 2,
   "metadata": {},
   "outputs": [],
   "source": [
    "import tensorflow as tf"
   ]
  },
  {
   "cell_type": "code",
   "execution_count": 3,
   "metadata": {},
   "outputs": [
    {
     "name": "stdout",
     "output_type": "stream",
     "text": [
      "Help on function constant in module tensorflow.python.framework.constant_op:\n",
      "\n",
      "constant(value, dtype=None, shape=None, name='Const') -> Union[tensorflow.python.framework.ops.Operation, tensorflow.python.framework.ops._EagerTensorBase]\n",
      "    Creates a constant tensor from a tensor-like object.\n",
      "    \n",
      "    Note: All eager `tf.Tensor` values are immutable (in contrast to\n",
      "    `tf.Variable`). There is nothing especially _constant_ about the value\n",
      "    returned from `tf.constant`. This function is not fundamentally different from\n",
      "    `tf.convert_to_tensor`. The name `tf.constant` comes from the `value` being\n",
      "    embedded in a `Const` node in the `tf.Graph`. `tf.constant` is useful\n",
      "    for asserting that the value can be embedded that way.\n",
      "    \n",
      "    If the argument `dtype` is not specified, then the type is inferred from\n",
      "    the type of `value`.\n",
      "    \n",
      "    >>> # Constant 1-D Tensor from a python list.\n",
      "    >>> tf.constant([1, 2, 3, 4, 5, 6])\n",
      "    <tf.Tensor: shape=(6,), dtype=int32,\n",
      "        numpy=array([1, 2, 3, 4, 5, 6], dtype=int32)>\n",
      "    >>> # Or a numpy array\n",
      "    >>> a = np.array([[1, 2, 3], [4, 5, 6]])\n",
      "    >>> tf.constant(a)\n",
      "    <tf.Tensor: shape=(2, 3), dtype=int64, numpy=\n",
      "      array([[1, 2, 3],\n",
      "             [4, 5, 6]])>\n",
      "    \n",
      "    If `dtype` is specified, the resulting tensor values are cast to the requested\n",
      "    `dtype`.\n",
      "    \n",
      "    >>> tf.constant([1, 2, 3, 4, 5, 6], dtype=tf.float64)\n",
      "    <tf.Tensor: shape=(6,), dtype=float64,\n",
      "        numpy=array([1., 2., 3., 4., 5., 6.])>\n",
      "    \n",
      "    If `shape` is set, the `value` is reshaped to match. Scalars are expanded to\n",
      "    fill the `shape`:\n",
      "    \n",
      "    >>> tf.constant(0, shape=(2, 3))\n",
      "      <tf.Tensor: shape=(2, 3), dtype=int32, numpy=\n",
      "      array([[0, 0, 0],\n",
      "             [0, 0, 0]], dtype=int32)>\n",
      "    >>> tf.constant([1, 2, 3, 4, 5, 6], shape=[2, 3])\n",
      "    <tf.Tensor: shape=(2, 3), dtype=int32, numpy=\n",
      "      array([[1, 2, 3],\n",
      "             [4, 5, 6]], dtype=int32)>\n",
      "    \n",
      "    `tf.constant` has no effect if an eager Tensor is passed as the `value`, it\n",
      "    even transmits gradients:\n",
      "    \n",
      "    >>> v = tf.Variable([0.0])\n",
      "    >>> with tf.GradientTape() as g:\n",
      "    ...     loss = tf.constant(v + v)\n",
      "    >>> g.gradient(loss, v).numpy()\n",
      "    array([2.], dtype=float32)\n",
      "    \n",
      "    But, since `tf.constant` embeds the value in the `tf.Graph` this fails for\n",
      "    symbolic tensors:\n",
      "    \n",
      "    >>> with tf.compat.v1.Graph().as_default():\n",
      "    ...   i = tf.compat.v1.placeholder(shape=[None, None], dtype=tf.float32)\n",
      "    ...   t = tf.constant(i)\n",
      "    Traceback (most recent call last):\n",
      "    ...\n",
      "    TypeError: ...\n",
      "    \n",
      "    `tf.constant` will create tensors on the current device. Inputs which are\n",
      "    already tensors maintain their placements unchanged.\n",
      "    \n",
      "    Related Ops:\n",
      "    \n",
      "    * `tf.convert_to_tensor` is similar but:\n",
      "      * It has no `shape` argument.\n",
      "      * Symbolic tensors are allowed to pass through.\n",
      "    \n",
      "      >>> with tf.compat.v1.Graph().as_default():\n",
      "      ...   i = tf.compat.v1.placeholder(shape=[None, None], dtype=tf.float32)\n",
      "      ...   t = tf.convert_to_tensor(i)\n",
      "    \n",
      "    * `tf.fill`: differs in a few ways:\n",
      "      *   `tf.constant` supports arbitrary constants, not just uniform scalar\n",
      "          Tensors like `tf.fill`.\n",
      "      *   `tf.fill` creates an Op in the graph that is expanded at runtime, so it\n",
      "          can efficiently represent large tensors.\n",
      "      *   Since `tf.fill` does not embed the value, it can produce dynamically\n",
      "          sized outputs.\n",
      "    \n",
      "    Args:\n",
      "      value: A constant value (or list) of output type `dtype`.\n",
      "      dtype: The type of the elements of the resulting tensor.\n",
      "      shape: Optional dimensions of resulting tensor.\n",
      "      name: Optional name for the tensor.\n",
      "    \n",
      "    Returns:\n",
      "      A Constant Tensor.\n",
      "    \n",
      "    Raises:\n",
      "      TypeError: if shape is incorrectly specified or unsupported.\n",
      "      ValueError: if called on a symbolic tensor.\n",
      "\n",
      "@@@@@\n",
      "tf.Tensor(b'Hello, TensorFlow!', shape=(), dtype=string)\n"
     ]
    },
    {
     "name": "stderr",
     "output_type": "stream",
     "text": [
      "2024-11-14 01:36:33.860327: I metal_plugin/src/device/metal_device.cc:1154] Metal device set to: Apple M3 Pro\n",
      "2024-11-14 01:36:33.860344: I metal_plugin/src/device/metal_device.cc:296] systemMemory: 18.00 GB\n",
      "2024-11-14 01:36:33.860348: I metal_plugin/src/device/metal_device.cc:313] maxCacheSize: 6.00 GB\n",
      "2024-11-14 01:36:33.860362: I tensorflow/core/common_runtime/pluggable_device/pluggable_device_factory.cc:305] Could not identify NUMA node of platform GPU ID 0, defaulting to 0. Your kernel may not have been built with NUMA support.\n",
      "2024-11-14 01:36:33.860372: I tensorflow/core/common_runtime/pluggable_device/pluggable_device_factory.cc:271] Created TensorFlow device (/job:localhost/replica:0/task:0/device:GPU:0 with 0 MB memory) -> physical PluggableDevice (device: 0, name: METAL, pci bus id: <undefined>)\n"
     ]
    }
   ],
   "source": [
    "hello = tf.constant(\"Hello, TensorFlow!\")\n",
    "help(tf.constant)\n",
    "\n",
    "# only version 1.x\n",
    "# sess = tf.Session()\n",
    "# print(sess.run(hello))\n",
    "print(\"@@@@@\")\n",
    "print(hello)"
   ]
  },
  {
   "cell_type": "code",
   "execution_count": 4,
   "metadata": {},
   "outputs": [
    {
     "name": "stdout",
     "output_type": "stream",
     "text": [
      "node1: tf.Tensor(3.0, shape=(), dtype=float32) node2: tf.Tensor(4.0, shape=(), dtype=float32)\n",
      "node3: tf.Tensor(7.0, shape=(), dtype=float32)\n"
     ]
    }
   ],
   "source": [
    "node1 = tf.constant(3.0, tf.float32)\n",
    "node2 = tf.constant(4.0)\n",
    "node3 = tf.add(node1, node2)\n",
    "print(\"node1:\", node1, \"node2:\", node2)\n",
    "print(\"node3:\", node3)\n",
    "# node\n",
    "# All of nodes is Tensor."
   ]
  },
  {
   "cell_type": "code",
   "execution_count": 6,
   "metadata": {},
   "outputs": [
    {
     "ename": "AttributeError",
     "evalue": "module 'tensorflow' has no attribute 'placeholder'",
     "output_type": "error",
     "traceback": [
      "\u001b[0;31m---------------------------------------------------------------------------\u001b[0m",
      "\u001b[0;31mAttributeError\u001b[0m                            Traceback (most recent call last)",
      "Cell \u001b[0;32mIn[6], line 1\u001b[0m\n\u001b[0;32m----> 1\u001b[0m a \u001b[38;5;241m=\u001b[39m \u001b[43mtf\u001b[49m\u001b[38;5;241;43m.\u001b[39;49m\u001b[43mplaceholder\u001b[49m(tf\u001b[38;5;241m.\u001b[39mfloat32)\n\u001b[1;32m      2\u001b[0m b \u001b[38;5;241m=\u001b[39m tf\u001b[38;5;241m.\u001b[39mplaceholder(tf\u001b[38;5;241m.\u001b[39mfloat32)\n\u001b[1;32m      3\u001b[0m adder_node \u001b[38;5;241m=\u001b[39m a \u001b[38;5;241m+\u001b[39m b\n",
      "\u001b[0;31mAttributeError\u001b[0m: module 'tensorflow' has no attribute 'placeholder'"
     ]
    }
   ],
   "source": [
    "a = tf.placeholder(tf.float32)\n",
    "b = tf.placeholder(tf.float32)\n",
    "adder_node = a + b\n",
    "\n"
   ]
  },
  {
   "cell_type": "code",
   "execution_count": null,
   "metadata": {},
   "outputs": [],
   "source": []
  }
 ],
 "metadata": {
  "kernelspec": {
   "display_name": "simon",
   "language": "python",
   "name": "python3"
  },
  "language_info": {
   "codemirror_mode": {
    "name": "ipython",
    "version": 3
   },
   "file_extension": ".py",
   "mimetype": "text/x-python",
   "name": "python",
   "nbconvert_exporter": "python",
   "pygments_lexer": "ipython3",
   "version": "3.9.20"
  }
 },
 "nbformat": 4,
 "nbformat_minor": 2
}
